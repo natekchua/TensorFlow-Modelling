{
  "nbformat": 4,
  "nbformat_minor": 0,
  "metadata": {
    "colab": {
      "name": "MNISTStarter.ipynb",
      "provenance": [],
      "collapsed_sections": [],
      "include_colab_link": true
    },
    "kernelspec": {
      "name": "python3",
      "display_name": "Python 3"
    }
  },
  "cells": [
    {
      "cell_type": "markdown",
      "metadata": {
        "id": "view-in-github",
        "colab_type": "text"
      },
      "source": [
        "<a href=\"https://colab.research.google.com/github/natekchua/TensorFlow-Modelling/blob/master/Part1/MNISTStarter.ipynb\" target=\"_parent\"><img src=\"https://colab.research.google.com/assets/colab-badge.svg\" alt=\"Open In Colab\"/></a>"
      ]
    },
    {
      "cell_type": "code",
      "metadata": {
        "id": "m4eZDEIAx0aH",
        "colab_type": "code",
        "outputId": "45845700-3f02-4f6f-9337-2d0f1fde498e",
        "colab": {
          "base_uri": "https://localhost:8080/",
          "height": 34
        }
      },
      "source": [
        "try:\n",
        "  # %tensorflow_version only exists in Colab.\n",
        "  %tensorflow_version 2.x\n",
        "except Exception:\n",
        "  pass"
      ],
      "execution_count": 0,
      "outputs": [
        {
          "output_type": "stream",
          "text": [
            "TensorFlow 2.x selected.\n"
          ],
          "name": "stdout"
        }
      ]
    },
    {
      "cell_type": "code",
      "metadata": {
        "id": "ITCcIDcJx02Q",
        "colab_type": "code",
        "outputId": "28cedda8-c2c1-42af-d9dc-4922ad24b9f4",
        "colab": {
          "base_uri": "https://localhost:8080/",
          "height": 806
        }
      },
      "source": [
        "import tensorflow as tf\n",
        "\n",
        "print(\"--Get data--\")\n",
        "mnist = tf.keras.datasets.mnist\n",
        "(x_train, y_train), (x_test, y_test) = mnist.load_data()\n",
        "\n",
        "print(\"--Process data--\")\n",
        "x_train, x_test = x_train / 255.0, x_test / 255.0\n",
        "\n",
        "print(\"--Make model--\")\n",
        "model = tf.keras.models.Sequential([\n",
        "  tf.keras.layers.Flatten(input_shape=(28, 28)),\n",
        "  tf.keras.layers.Dense(512, activation='relu'),\n",
        "  tf.keras.layers.Dropout(0.1),\n",
        "  tf.keras.layers.Dense(10, activation='sigmoid')\n",
        "])\n",
        "\n",
        "model.compile(optimizer='adam', loss='sparse_categorical_crossentropy', metrics=['accuracy'])\n",
        "\n",
        "print(\"--Fit Train model--\")\n",
        "model.fit(x_train, y_train, epochs=8, verbose=2)\n",
        "\n",
        "print(\"--Evaluate model--\")\n",
        "model_loss, model_acc = model.evaluate(x_train,  y_train, verbose=2)\n",
        "print(f\"Model Loss:    {model_loss:.2f}\")\n",
        "print(f\"Model Accuracy: {model_acc*100:.1f}%\")\n",
        "\n",
        "print(\"--Fit Test model--\")\n",
        "model.fit(x_test, y_test, epochs=8, verbose=2)\n",
        "\n",
        "print(\"--Evaluate model--\")\n",
        "model_loss, model_acc = model.evaluate(x_test,  y_test, verbose=2)\n",
        "print(f\"Model Loss:    {model_loss:.2f}\")\n",
        "print(f\"Model Accuracy: {model_acc*100:.1f}%\")"
      ],
      "execution_count": 2,
      "outputs": [
        {
          "output_type": "stream",
          "text": [
            "--Get data--\n",
            "--Process data--\n",
            "--Make model--\n",
            "--Fit Train model--\n",
            "Train on 60000 samples\n",
            "Epoch 1/8\n",
            "60000/60000 - 8s - loss: 0.2297 - acc: 0.9329\n",
            "Epoch 2/8\n",
            "60000/60000 - 8s - loss: 0.0968 - acc: 0.9713\n",
            "Epoch 3/8\n",
            "60000/60000 - 8s - loss: 0.0652 - acc: 0.9793\n",
            "Epoch 4/8\n",
            "60000/60000 - 8s - loss: 0.0491 - acc: 0.9841\n",
            "Epoch 5/8\n",
            "60000/60000 - 8s - loss: 0.0396 - acc: 0.9870\n",
            "Epoch 6/8\n",
            "60000/60000 - 8s - loss: 0.0336 - acc: 0.9886\n",
            "Epoch 7/8\n",
            "60000/60000 - 8s - loss: 0.0247 - acc: 0.9918\n",
            "Epoch 8/8\n",
            "60000/60000 - 8s - loss: 0.0239 - acc: 0.9918\n",
            "--Evaluate model--\n",
            "60000/60000 - 3s - loss: 0.0177 - acc: 0.9942\n",
            "Model Loss:    0.02\n",
            "Model Accuracy: 99.4%\n",
            "--Fit Test model--\n",
            "Train on 10000 samples\n",
            "Epoch 1/8\n",
            "10000/10000 - 1s - loss: 0.0788 - acc: 0.9779\n",
            "Epoch 2/8\n",
            "10000/10000 - 1s - loss: 0.0282 - acc: 0.9903\n",
            "Epoch 3/8\n",
            "10000/10000 - 1s - loss: 0.0165 - acc: 0.9943\n",
            "Epoch 4/8\n",
            "10000/10000 - 1s - loss: 0.0098 - acc: 0.9971\n",
            "Epoch 5/8\n",
            "10000/10000 - 1s - loss: 0.0077 - acc: 0.9977\n",
            "Epoch 6/8\n",
            "10000/10000 - 1s - loss: 0.0048 - acc: 0.9985\n",
            "Epoch 7/8\n",
            "10000/10000 - 1s - loss: 0.0029 - acc: 0.9994\n",
            "Epoch 8/8\n",
            "10000/10000 - 1s - loss: 0.0031 - acc: 0.9993\n",
            "--Evaluate model--\n",
            "10000/10000 - 1s - loss: 0.0014 - acc: 0.9996\n",
            "Model Loss:    0.00\n",
            "Model Accuracy: 100.0%\n"
          ],
          "name": "stdout"
        }
      ]
    },
    {
      "cell_type": "code",
      "metadata": {
        "id": "uqKuNbSJEaWc",
        "colab_type": "code",
        "colab": {}
      },
      "source": [
        "#Save Model to MNIST.h5\n",
        "model.save('MNIST.h5')"
      ],
      "execution_count": 0,
      "outputs": []
    },
    {
      "cell_type": "code",
      "metadata": {
        "id": "0Vc4ePZwERJW",
        "colab_type": "code",
        "colab": {}
      },
      "source": [
        "from google.colab import files\n",
        "files.download('MNIST.h5')"
      ],
      "execution_count": 0,
      "outputs": []
    }
  ]
}